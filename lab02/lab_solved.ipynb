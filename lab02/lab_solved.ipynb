{
    "cells": [
        {
            "cell_type": "markdown",
            "metadata": {},
            "source": [
                "EE-311\n",
                "======\n",
                "\n",
                "Lab 2: NumPy, Matplotlib and Scikit-learn (linear regression example)\n",
                "---------------------------------------------------------------------\n",
                "\n",
                "created by François Marelli on 03.03.2021"
            ]
        },
        {
            "cell_type": "markdown",
            "metadata": {},
            "source": [
                "# Introduction to NumPy and Matplotlib\n",
                "\n",
                "NumPy is a Python library implementing multi-dimensional arrays and matrices and efficient mathematical functions.\n",
                "\n",
                "NumPy is often imported with the alias \"np\" for ease of use, using the following syntax:"
            ]
        },
        {
            "cell_type": "code",
            "execution_count": 1,
            "metadata": {},
            "outputs": [],
            "source": [
                "import numpy as np"
            ]
        },
        {
            "cell_type": "markdown",
            "metadata": {},
            "source": [
                "As opposed to Python lists, NumPy arrays can contain only one type of data. We will only use them for integers or floats.\n",
                "\n",
                "There are many ways to create NumPy arrays, for example from lists."
            ]
        },
        {
            "cell_type": "code",
            "execution_count": 2,
            "metadata": {},
            "outputs": [
                {
                    "name": "stdout",
                    "output_type": "stream",
                    "text": [
                        "[1 2 3] <class 'numpy.ndarray'>\n"
                    ]
                }
            ],
            "source": [
                "a_list = [1, 2, 3]\n",
                "\n",
                "a_array = np.array(a_list)\n",
                "\n",
                "print(a_array, type(a_array))"
            ]
        },
        {
            "cell_type": "markdown",
            "metadata": {},
            "source": [
                "Arrays can be multidimensional, as shown in the example below. They are characterized by the following values:\n",
                "\n",
                "* `size`: the number of elements in the array\n",
                "* `ndim`: the number of dimensions of the array\n",
                "* `shape`: the length of each dimension of the array"
            ]
        },
        {
            "cell_type": "code",
            "execution_count": 3,
            "metadata": {},
            "outputs": [
                {
                    "name": "stdout",
                    "output_type": "stream",
                    "text": [
                        "Size: 6\n",
                        "Ndim: 2\n",
                        "Shape: (2, 3)\n"
                    ]
                }
            ],
            "source": [
                "# Multi-dimensional arrays can be created from nested lists\n",
                "array = np.array([[1, 2, 3], [4, 5, 6]])\n",
                "\n",
                "print('Size:', array.size)\n",
                "print('Ndim:', array.ndim)\n",
                "print('Shape:', array.shape)"
            ]
        },
        {
            "cell_type": "markdown",
            "metadata": {},
            "source": [
                "Arrays can also be created using functions and specifying their characteristics (shape, type, ...). The example below shows the following:\n",
                "\n",
                "* `np.ones`: create a matrix full of ones\n",
                "* `np.zeros`: create a matrix full of zeros\n",
                "* `np.empty`: create an empty matrix (**in practice the memory is not written, so it is full of random values**)"
            ]
        },
        {
            "cell_type": "code",
            "execution_count": 4,
            "metadata": {},
            "outputs": [
                {
                    "name": "stdout",
                    "output_type": "stream",
                    "text": [
                        "Ones\n",
                        "[[1 1 1]\n",
                        " [1 1 1]]\n",
                        "\n",
                        "Zeros\n",
                        "[[0. 0. 0.]\n",
                        " [0. 0. 0.]]\n",
                        "\n",
                        "Empty\n",
                        "[[[4.64355141e-310 0.00000000e+000 9.82157975e+252 8.89489936e+252]\n",
                        "  [6.01346954e-154 6.01347002e-154 6.01347002e-154 7.49877502e+247]]\n",
                        "\n",
                        " [[6.96742172e+252 6.72775467e+199 1.19490107e+190 5.08200698e+233]\n",
                        "  [1.53336497e-094 6.01347002e-154 6.01347002e-154 6.01347002e-154]]\n",
                        "\n",
                        " [[1.88556770e+122 4.96820036e+180 6.80600993e+212 1.10317376e+217]\n",
                        "  [1.19490107e+190 2.06642651e+161 5.44760669e-109 1.95435809e-311]]]\n"
                    ]
                }
            ],
            "source": [
                "# Create matrices by giving shape and type\n",
                "# As shape is the first argument, it does not need to be named\n",
                "# The default type is float\n",
                "\n",
                "ones = np.ones(shape=(2, 3), dtype=int)\n",
                "zeros = np.zeros((2, 3))\n",
                "\n",
                "# We can have as many dimensions as we want! For example, here we have 3.\n",
                "empty = np.empty((3,2,4))\n",
                "\n",
                "print('Ones')\n",
                "print(ones)\n",
                "\n",
                "print('\\nZeros')\n",
                "print(zeros)\n",
                "\n",
                "print('\\nEmpty')\n",
                "print(empty)"
            ]
        },
        {
            "cell_type": "markdown",
            "metadata": {},
            "source": [
                "## Read the docs!\n",
                "\n",
                "When using libraries, it is always useful to keep the documentation at hand. It provides detailed information about its functions, their parameters and return values. For example, check the documentation of `np.full`: <https://numpy.org/doc/stable/reference/generated/numpy.full.html>\n",
                "\n",
                "At the top, you find the name of the function and its arguments (you can also see the default values there). It is followed by a detailed list of the argument types and their meaning in the function. Finally, the return values are explained and example use cases are given.\n",
                "\n",
                "Remember to always check the documentation when you want to know what a function does, or what an argument means. It can also be very helpful in solving bugs in code. The search tool (top left) will be very handy!\n",
                "\n",
                "According the documentation of `np.full`, what do you expect the following cell to do?"
            ]
        },
        {
            "cell_type": "code",
            "execution_count": 5,
            "metadata": {},
            "outputs": [
                {
                    "name": "stdout",
                    "output_type": "stream",
                    "text": [
                        "[[[42. 42.]\n",
                        "  [42. 42.]\n",
                        "  [42. 42.]\n",
                        "  [42. 42.]]\n",
                        "\n",
                        " [[42. 42.]\n",
                        "  [42. 42.]\n",
                        "  [42. 42.]\n",
                        "  [42. 42.]]\n",
                        "\n",
                        " [[42. 42.]\n",
                        "  [42. 42.]\n",
                        "  [42. 42.]\n",
                        "  [42. 42.]]]\n"
                    ]
                }
            ],
            "source": [
                "array = np.full((3, 4, 2), 42, float)\n",
                "\n",
                "print(array)"
            ]
        },
        {
            "cell_type": "markdown",
            "metadata": {},
            "source": [
                "## Operation over arrays\n",
                "\n",
                "NumPy allows to apply mathematical operations to arrays. Standard operators will apply to matrices element-wise, as shown in the example below:"
            ]
        },
        {
            "cell_type": "code",
            "execution_count": 6,
            "metadata": {},
            "outputs": [
                {
                    "name": "stdout",
                    "output_type": "stream",
                    "text": [
                        "Sum\n",
                        "[[3. 3. 3.]\n",
                        " [3. 3. 3.]]\n",
                        "\n",
                        "Product\n",
                        "[[2. 2. 2.]\n",
                        " [2. 2. 2.]]\n",
                        "\n",
                        "Scalar sum\n",
                        "[[3. 3. 3.]\n",
                        " [3. 3. 3.]]\n"
                    ]
                }
            ],
            "source": [
                "# Tuples can be defined without parentheses\n",
                "shape = 2, 3\n",
                "\n",
                "ones = np.ones(shape)\n",
                "twos = np.full(shape, 2)\n",
                "\n",
                "sum_result = ones + twos\n",
                "prod_result = ones * twos\n",
                "\n",
                "print('Sum')\n",
                "print(sum_result)\n",
                "\n",
                "print('\\nProduct')\n",
                "print(prod_result)\n",
                "\n",
                "print('\\nScalar sum')\n",
                "print(ones + 2)"
            ]
        },
        {
            "cell_type": "markdown",
            "metadata": {},
            "source": [
                "Matrix product (dot product) is computed using `np.dot`, or the operator `@`. Be aware that the dimensions must match the standard rules for matrix product!"
            ]
        },
        {
            "cell_type": "code",
            "execution_count": 7,
            "metadata": {},
            "outputs": [
                {
                    "name": "stdout",
                    "output_type": "stream",
                    "text": [
                        "Shape of a: (2, 3)\n",
                        "Shape of b: (3, 4)\n",
                        "\n",
                        "Shape of a@b: (2, 4)\n",
                        "\n",
                        "Checking the results:\n",
                        "\n",
                        "a@b\n",
                        "[[3. 3. 3. 3.]\n",
                        " [3. 3. 3. 3.]]\n",
                        "\n",
                        "np.dot(a,b)\n",
                        "[[3. 3. 3. 3.]\n",
                        " [3. 3. 3. 3.]]\n",
                        "\n",
                        "a.dot(b)\n",
                        "[[3. 3. 3. 3.]\n",
                        " [3. 3. 3. 3.]]\n"
                    ]
                }
            ],
            "source": [
                "a = np.ones((2, 3))\n",
                "b = np.ones((3, 4))\n",
                "\n",
                "c = a@b\n",
                "\n",
                "# Alternative 1\n",
                "c1 = np.dot(a, b)\n",
                "\n",
                "# Alternative 2\n",
                "c2 = a.dot(b)\n",
                "\n",
                "print('Shape of a:', a.shape)\n",
                "print('Shape of b:', b.shape)\n",
                "print('\\nShape of a@b:', c.shape)\n",
                "\n",
                "print('\\nChecking the results:')\n",
                "print('\\na@b')\n",
                "print(c)\n",
                "print('\\nnp.dot(a,b)')\n",
                "print(c1)\n",
                "print('\\na.dot(b)')\n",
                "print(c2)"
            ]
        },
        {
            "cell_type": "markdown",
            "metadata": {},
            "source": [
                "NumPy also adds mathematical functions to be applied to arrays, such as for example: `np.exp`, `np.log`, `np.power`."
            ]
        },
        {
            "cell_type": "code",
            "execution_count": 8,
            "metadata": {},
            "outputs": [
                {
                    "name": "stdout",
                    "output_type": "stream",
                    "text": [
                        "Cube of a matrix of 2:\n",
                        "[[8 8 8]\n",
                        " [8 8 8]]\n",
                        "\n",
                        "Cube of a matrix of 2 using **:\n",
                        "[[8 8 8]\n",
                        " [8 8 8]]\n",
                        "\n",
                        "Different powers of 2\n",
                        "[[ 1  2  4]\n",
                        " [ 8 16 32]]\n"
                    ]
                }
            ],
            "source": [
                "twos = np.full(shape, 2)\n",
                "\n",
                "cube = np.power(twos, 3)\n",
                "print('Cube of a matrix of 2:')\n",
                "print(cube)\n",
                "\n",
                "print('\\nCube of a matrix of 2 using **:')\n",
                "print(twos ** 3)\n",
                "\n",
                "# A bit more complex: each element has its own power\n",
                "powers = np.array([[0, 1, 2], [3, 4, 5]])\n",
                "\n",
                "result = np.power(twos, powers)\n",
                "print('\\nDifferent powers of 2')\n",
                "print(result)"
            ]
        },
        {
            "cell_type": "markdown",
            "metadata": {},
            "source": [
                "NumPy also adds functions that can be computed on the arrays, such as `np.max`, `np.min`, `np.sum`, `np.std`, `np.mean`.\n",
                "\n",
                "They can be called in two ways:"
            ]
        },
        {
            "cell_type": "code",
            "execution_count": 9,
            "metadata": {},
            "outputs": [
                {
                    "name": "stdout",
                    "output_type": "stream",
                    "text": [
                        "np.sum(ones):\t 6.0\n",
                        "ones.sum():\t 6.0\n"
                    ]
                }
            ],
            "source": [
                "ones = np.ones(shape)\n",
                "\n",
                "print('np.sum(ones):\\t', np.sum(ones))\n",
                "print('ones.sum():\\t', ones.sum())"
            ]
        },
        {
            "cell_type": "markdown",
            "metadata": {},
            "source": [
                "These functions can also be called over a specific axis only. In the example below, the sum is computed only over the last axis. Since the original shape is (2, 3) and we sum over the last dimension, it collapses and we end up with only the first dimension left (shape: 2)."
            ]
        },
        {
            "cell_type": "code",
            "execution_count": 10,
            "metadata": {},
            "outputs": [
                {
                    "name": "stdout",
                    "output_type": "stream",
                    "text": [
                        "Ones:\n",
                        "[[1. 1. 1.]\n",
                        " [1. 1. 1.]]\n",
                        "\n",
                        "Shape:\n",
                        "(2, 3)\n",
                        "\n",
                        "Sum over the last dimension:\n",
                        "[3. 3.]\n"
                    ]
                }
            ],
            "source": [
                "partial_sum = np.sum(ones, axis=-1)\n",
                "\n",
                "print('Ones:')\n",
                "print(ones)\n",
                "\n",
                "print('\\nShape:')\n",
                "print(ones.shape)\n",
                "\n",
                "print('\\nSum over the last dimension:')\n",
                "print(partial_sum)"
            ]
        },
        {
            "cell_type": "markdown",
            "metadata": {},
            "source": [
                "## Dimensions and indexing\n",
                "\n",
                "Indexing arrays works the same as with Python lists (including slices, negative indexes, ...). One index (or slice) must be given for each dimension of the array."
            ]
        },
        {
            "cell_type": "code",
            "execution_count": 11,
            "metadata": {},
            "outputs": [
                {
                    "name": "stdout",
                    "output_type": "stream",
                    "text": [
                        "Array:\n",
                        "[[1 2 3]\n",
                        " [4 5 6]]\n",
                        "\n",
                        "Slice of the second row:\n",
                        "[5 6]\n"
                    ]
                }
            ],
            "source": [
                "array = np.array([[1, 2, 3], [4, 5, 6]])\n",
                "\n",
                "print('Array:')\n",
                "print(array)\n",
                "\n",
                "print('\\nSlice of the second row:')\n",
                "print(array[1, 1:3])"
            ]
        },
        {
            "cell_type": "markdown",
            "metadata": {},
            "source": [
                "Arrays can be indexed using boolean masks to access all elements fulfilling a condition. They can be created by using conditional expressions:"
            ]
        },
        {
            "cell_type": "code",
            "execution_count": 12,
            "metadata": {},
            "outputs": [
                {
                    "name": "stdout",
                    "output_type": "stream",
                    "text": [
                        "Mask:\n",
                        "[[False  True False]\n",
                        " [ True False  True]]\n",
                        "\n",
                        "Array:\n",
                        "[[1 2 3]\n",
                        " [4 5 6]]\n",
                        "\n",
                        "Indexed array:\n",
                        "[2 4 6]\n"
                    ]
                }
            ],
            "source": [
                "a = np.array([[1, 2, 3], [4, 5, 6]])\n",
                "\n",
                "mask = a % 2 == 0\n",
                "\n",
                "indexed = a[mask]\n",
                "\n",
                "print('Mask:')\n",
                "print(mask)\n",
                "\n",
                "print('\\nArray:')\n",
                "print(a)\n",
                "\n",
                "print('\\nIndexed array:')\n",
                "print(indexed)"
            ]
        },
        {
            "cell_type": "markdown",
            "metadata": {},
            "source": [
                "Masks can be combined using `&` for and logic, and `|` for or."
            ]
        },
        {
            "cell_type": "code",
            "execution_count": 13,
            "metadata": {},
            "outputs": [
                {
                    "name": "stdout",
                    "output_type": "stream",
                    "text": [
                        "Mask 1:\n",
                        "[[False  True False]\n",
                        " [ True False  True]]\n",
                        "\n",
                        "Mask 2:\n",
                        "[[False False False]\n",
                        " [ True  True  True]]\n",
                        "\n",
                        "And mask:\n",
                        "[[False False False]\n",
                        " [ True False  True]]\n",
                        "\n",
                        "Or mask:\n",
                        "[[False  True False]\n",
                        " [ True  True  True]]\n"
                    ]
                }
            ],
            "source": [
                "a = np.array([[1, 2, 3], [4, 5, 6]])\n",
                "\n",
                "mask1 = a % 2 == 0\n",
                "\n",
                "mask2 = a > 3\n",
                "\n",
                "and_mask = mask1 & mask2\n",
                "\n",
                "or_mask = mask1 | mask2\n",
                "\n",
                "print('Mask 1:')\n",
                "print(mask1)\n",
                "\n",
                "print('\\nMask 2:')\n",
                "print(mask2)\n",
                "\n",
                "print('\\nAnd mask:')\n",
                "print(and_mask)\n",
                "\n",
                "print('\\nOr mask:')\n",
                "print(or_mask)"
            ]
        },
        {
            "cell_type": "markdown",
            "metadata": {},
            "source": [
                "It is possible to add new dimensions using `np.newaxis`, and to remove empty dimensions using `np.squeeze`"
            ]
        },
        {
            "cell_type": "code",
            "execution_count": 14,
            "metadata": {},
            "outputs": [
                {
                    "name": "stdout",
                    "output_type": "stream",
                    "text": [
                        "Original shape:\n",
                        "(1, 3, 4)\n",
                        "\n",
                        "After new axis:\n",
                        "(1, 3, 1, 4)\n",
                        "\n",
                        "After squeeze:\n",
                        "(3, 4)\n"
                    ]
                }
            ],
            "source": [
                "a = np.empty((1, 3, 4))\n",
                "\n",
                "print('Original shape:')\n",
                "print(a.shape)\n",
                "\n",
                "# Adding an axis in 3rd position\n",
                "b = a[:, :, np.newaxis, :]\n",
                "\n",
                "print('\\nAfter new axis:')\n",
                "print(b.shape)\n",
                "\n",
                "# Removing all empty dimensions\n",
                "c = np.squeeze(b)\n",
                "\n",
                "print('\\nAfter squeeze:')\n",
                "print(c.shape)"
            ]
        },
        {
            "cell_type": "markdown",
            "metadata": {},
            "source": [
                "## Making graphs using Matplotlib\n",
                "\n",
                "Matplotlib (more specifically pyplot) is a Python library allowing us to easily create graphs from NumPy arrays. It is usually imported as plt:"
            ]
        },
        {
            "cell_type": "code",
            "execution_count": 15,
            "metadata": {},
            "outputs": [],
            "source": [
                "from matplotlib import pyplot as plt"
            ]
        },
        {
            "cell_type": "markdown",
            "metadata": {},
            "source": [
                "We can use the `plt.plot` function to plot a curve. Its first argument is a list (or array) of x values, and its second argument is a list (or array) of y values. They should have the same size. When the plot is ready to be shown, we call `plt.show`."
            ]
        },
        {
            "cell_type": "code",
            "execution_count": 16,
            "metadata": {},
            "outputs": [
                {
                    "data": {
                        "image/png": "[encoded data removed]",
                        "text/plain": [
                            "<Figure size 432x288 with 1 Axes>"
                        ]
                    },
                    "metadata": {
                        "needs_background": "light"
                    },
                    "output_type": "display_data"
                }
            ],
            "source": [
                "x = [1, 2, 3, 4, 5]\n",
                "y = [3, 2, 1, 2, 3]\n",
                "\n",
                "plt.plot(x, y)\n",
                "plt.show()"
            ]
        },
        {
            "cell_type": "markdown",
            "metadata": {},
            "source": [
                "A more practical way to create x is to use NumPy. For example, we can use `np.arange` to create a range of values (from min to max with given step), or `np.linspace` to create an array of evenly spaced values (from min to max, N values). See the difference below (notably, the max value is not included in arange, but it is in linspace), where we create two arrays of the same size:"
            ]
        },
        {
            "cell_type": "code",
            "execution_count": 17,
            "metadata": {},
            "outputs": [
                {
                    "name": "stdout",
                    "output_type": "stream",
                    "text": [
                        "Arange (0, 10, 2): [0 2 4 6 8]\n",
                        "Linspace (0, 10, 5): [ 0.   2.5  5.   7.5 10. ]\n"
                    ]
                }
            ],
            "source": [
                "arange = np.arange(0, 10, 2)\n",
                "\n",
                "print('Arange (0, 10, 2):', arange)\n",
                "\n",
                "linspace = np.linspace(0, 10, 5)\n",
                "print('Linspace (0, 10, 5):', linspace)"
            ]
        },
        {
            "cell_type": "markdown",
            "metadata": {},
            "source": [
                "We can then use NumPy operations to create y from x. \n",
                "\n",
                "If we call plot multiple times (without show), all the curves appear on the same figure."
            ]
        },
        {
            "cell_type": "code",
            "execution_count": 18,
            "metadata": {},
            "outputs": [
                {
                    "data": {
                        "image/png": "[encoded data removed]",
                        "text/plain": [
                            "<Figure size 432x288 with 1 Axes>"
                        ]
                    },
                    "metadata": {
                        "needs_background": "light"
                    },
                    "output_type": "display_data"
                }
            ],
            "source": [
                "x = np.linspace(-10, 10, 50)\n",
                "\n",
                "y1 = x ** 2\n",
                "\n",
                "y2 = 2 * x + 50\n",
                "\n",
                "plt.plot(x, y1)\n",
                "plt.plot(x, y2)\n",
                "\n",
                "plt.show()"
            ]
        },
        {
            "cell_type": "markdown",
            "metadata": {},
            "source": [
                "The plot function can do a lot more, see the docs for full details <https://matplotlib.org/stable/api/_as_gen/matplotlib.pyplot.plot.html>.\n",
                "\n",
                "In the following example, we change the plot style in the first additional argument. It reads as follow: linestyle, then color (for example: ':r' means dotted line - red). The \"label\" argument gives a name to the curve, which is then shown on the figure by calling `plt.legend`."
            ]
        },
        {
            "cell_type": "code",
            "execution_count": 19,
            "metadata": {},
            "outputs": [
                {
                    "data": {
                        "image/png": "[encoded data removed]",
                        "text/plain": [
                            "<Figure size 432x288 with 1 Axes>"
                        ]
                    },
                    "metadata": {
                        "needs_background": "light"
                    },
                    "output_type": "display_data"
                }
            ],
            "source": [
                "plt.plot(x, y1, ':r', label='y1')\n",
                "plt.plot(x, y2, '--b', label='y2')\n",
                "\n",
                "plt.legend()\n",
                "\n",
                "plt.show()"
            ]
        },
        {
            "cell_type": "markdown",
            "metadata": {},
            "source": [
                "If we instead want multiple figures, we can use `plt.figure` to create new graphs. You can also use it to specify the size of the figure.\n",
                "\n",
                "We use `plt.xlabel`, `plt.ylabel` and `plt.title` to add titles and labels to the axes. It has to be done separately for each figure."
            ]
        },
        {
            "cell_type": "code",
            "execution_count": 20,
            "metadata": {},
            "outputs": [
                {
                    "data": {
                        "image/png": "[encoded data removed]",
                        "text/plain": [
                            "<Figure size 432x288 with 1 Axes>"
                        ]
                    },
                    "metadata": {
                        "needs_background": "light"
                    },
                    "output_type": "display_data"
                },
                {
                    "data": {
                        "image/png": "[encoded data removed]",
                        "text/plain": [
                            "<Figure size 720x504 with 1 Axes>"
                        ]
                    },
                    "metadata": {
                        "needs_background": "light"
                    },
                    "output_type": "display_data"
                }
            ],
            "source": [
                "plt.plot(x, y1, ':r', label='y1')\n",
                "plt.legend()\n",
                "\n",
                "plt.xlabel('X axis label')\n",
                "plt.ylabel('Y axis label')\n",
                "plt.title('First title')\n",
                "\n",
                "# Size is optional, given as (width, height)\n",
                "plt.figure(figsize=(10, 7))\n",
                "\n",
                "plt.plot(x, y2, '--b', label='y2')\n",
                "plt.legend()\n",
                "\n",
                "plt.xlabel('X axis label 2')\n",
                "plt.ylabel('Y axis label 2')\n",
                "plt.title('Second title')\n",
                "\n",
                "plt.show()"
            ]
        },
        {
            "cell_type": "markdown",
            "metadata": {},
            "source": [
                "`plt.scatter` takes similar arguments to plot, but it produces point clouds instead of curves. See the example below:"
            ]
        },
        {
            "cell_type": "code",
            "execution_count": 21,
            "metadata": {},
            "outputs": [
                {
                    "data": {
                        "image/png": "[encoded data removed]",
                        "text/plain": [
                            "<Figure size 432x288 with 1 Axes>"
                        ]
                    },
                    "metadata": {
                        "needs_background": "light"
                    },
                    "output_type": "display_data"
                }
            ],
            "source": [
                "x = [2, 1, 2, 5, 4]\n",
                "y = [3, 5, 5, 3, 6]\n",
                "\n",
                "plt.scatter(x, y)\n",
                "plt.show()"
            ]
        },
        {
            "cell_type": "markdown",
            "metadata": {},
            "source": [
                "# Scikit-learn: linear regression\n",
                "\n",
                "Scikit-learn is a Python library implementing machine learning algorithms. We will use it to illustrate the concepts presented during the lectures. It is imported under the name `sklearn`.\n",
                "\n",
                "## Importing libraries\n",
                "\n",
                "This will be the first step in most labs: importing all the libraries and functions we need for later."
            ]
        },
        {
            "cell_type": "code",
            "execution_count": 22,
            "metadata": {},
            "outputs": [],
            "source": [
                "import matplotlib.pyplot as plt\n",
                "import numpy as np\n",
                "from sklearn import datasets, linear_model\n",
                "from sklearn.metrics import mean_squared_error"
            ]
        },
        {
            "cell_type": "markdown",
            "metadata": {},
            "source": [
                "## Preparing the dataset\n",
                "\n",
                "For this lab, we will use the Wine dataset. It contains the results of a chemical analysis of some Italian wines (more info: <https://scikit-learn.org/stable/datasets/toy_dataset.html#wine-dataset>). Based on this dataset, we will try to predict the alcohol degree of a wine based on the intensity of its colour.\n",
                "\n",
                "**Prepare the dataset**\n",
                "\n",
                "* Select the intensity of the colour in `wine_X`, as it will be our base feature for the prediction\n",
                "* Select the alcohol degree in `wine_y`, as it will be the value we try to predict\n",
                "* Scikit-learn does not accept 1D data for `X`, so add an empty dimension at the end of `wine_X`\n",
                "* Split `wine_X` and `wine_y` into train and test sets: select the last 10 samples of the dataset for testing\n",
                "\n",
                "**Answer the following:**\n",
                "\n",
                "1. How many datapoints does the dataset contain?\n",
                "2. How many features does the full dataset have?\n",
                "3. What are the minimum and maximum values for both X and y?\n",
                "4. How many points have a colour intensity above 5?\n",
                "5. How many points have an alcohol degree strictly comprised between 12 and 13?\n",
                "6. How many points satisfy both these conditions simultaneously?\n",
                "7. What is the mean alcohol degree in the dataset?"
            ]
        },
        {
            "cell_type": "code",
            "execution_count": 23,
            "metadata": {},
            "outputs": [
                {
                    "name": "stdout",
                    "output_type": "stream",
                    "text": [
                        "1. Datapoints : 178\n",
                        "2. Features : 13\n",
                        "4. a) Min/max values for X: 1.28 - 13.00\n",
                        "   b) Min/max values for y: 11.03 - 14.83\n",
                        "4. Points with intensity higher than 5: 80\n",
                        "5. Points with alcohol degree between 11 and 13: 64\n",
                        "6. Points satisfying both conditions: 16\n",
                        "7. Mean median income in block group: 13.00\n"
                    ]
                }
            ],
            "source": [
                "# Load the dataset\n",
                "wine_full, _ = datasets.load_wine(return_X_y=True)\n",
                "\n",
                "\n",
                "##########################################################################\n",
                "# Code here\n",
                "\n",
                "# Keep only the required features\n",
                "wine_X = wine_full[:, 9]\n",
                "wine_y = wine_full[:, 0]\n",
                "\n",
                "# Add an empty dimension\n",
                "wine_X = wine_X[:, np.newaxis]\n",
                "\n",
                "# Split the data into training/testing sets\n",
                "wine_X_train = wine_X[:-10]\n",
                "wine_X_test = wine_X[-10:]\n",
                "\n",
                "# Split the targets into training/testing sets\n",
                "wine_y_train = wine_y[:-10]\n",
                "wine_y_test = wine_y[-10:]\n",
                "\n",
                "\n",
                "# Use conditional expressions to answer the questions\n",
                "mask_a = wine_X > 5\n",
                "\n",
                "mask_b = (wine_y > 12) & (wine_y < 13)\n",
                "\n",
                "mask_c = np.squeeze(mask_a) & mask_b\n",
                "\n",
                "print('1. Datapoints :', wine_full.shape[0])\n",
                "print('2. Features :', wine_full.shape[1])\n",
                "print('4. a) Min/max values for X: {:.02f} - {:.02f}'.format(wine_X.min(), wine_X.max()))\n",
                "print('   b) Min/max values for y: {:.02f} - {:.02f}'.format(wine_y.min(), wine_y.max()))\n",
                "print('4. Points with intensity higher than 5:', mask_a.sum())\n",
                "print('5. Points with alcohol degree between 11 and 13:', mask_b.sum())\n",
                "print('6. Points satisfying both conditions:', mask_c.sum())\n",
                "print('7. Mean alcohol degree in the dataset: {:.02f}'.format(wine_y.mean()))"
            ]
        },
        {
            "cell_type": "markdown",
            "metadata": {},
            "source": [
                "## Plotting the dataset\n",
                "\n",
                "It is always a good idea to start with plotting the data. It helps visualize it and possibly identify interesting properties.\n",
                "\n",
                "In the following scatter plot, it appears that the relationship between colour intensity and alcohol degree follows a roughly linear trend."
            ]
        },
        {
            "cell_type": "code",
            "execution_count": 24,
            "metadata": {},
            "outputs": [
                {
                    "data": {
                        "image/png": "[encoded data removed]",
                        "text/plain": [
                            "<Figure size 720x504 with 1 Axes>"
                        ]
                    },
                    "metadata": {
                        "needs_background": "light"
                    },
                    "output_type": "display_data"
                }
            ],
            "source": [
                "plt.figure(figsize=(10, 7))\n",
                "\n",
                "plt.scatter(wine_X, wine_y,  color='green')\n",
                "\n",
                "plt.xlabel('Colour intensity')\n",
                "plt.ylabel('Alcohol degree')\n",
                "plt.title('Wine dataset')\n",
                "\n",
                "plt.show()"
            ]
        },
        {
            "cell_type": "markdown",
            "metadata": {},
            "source": [
                "## Linear regression\n",
                "\n",
                "We want to be able to predict the alcohol degree of wine based on its colour intensity using linear regression.\n",
                "\n",
                "*Reminder: linear regression consists in trying to fit a straight line through the dataset to approximate it best, new values can then be predicted to be on that line.*\n",
                "\n",
                "Using Scikit-learn, we create a linear regression model. We then fit it on the dataset to compute its optimal parameters. This workflow is similar for all models in Scikit-learn.\n",
                "\n",
                "Once the model is trained, we print the obtained coefficients (in this case, the slope of the linear regression)."
            ]
        },
        {
            "cell_type": "code",
            "execution_count": 25,
            "metadata": {},
            "outputs": [
                {
                    "name": "stdout",
                    "output_type": "stream",
                    "text": [
                        "Slope of the model:  [0.20529887]\n"
                    ]
                }
            ],
            "source": [
                "# Create linear regression object\n",
                "regr = linear_model.LinearRegression()\n",
                "\n",
                "# Train the model using the training sets\n",
                "regr.fit(wine_X_train, wine_y_train)\n",
                "\n",
                "# Print the optimal coefficients\n",
                "print('Slope of the model: ', regr.coef_)"
            ]
        },
        {
            "cell_type": "markdown",
            "metadata": {},
            "source": [
                "### Testing the obtained model\n",
                "\n",
                "To quantify the quality of our model, we try predicting the mean prices for points in our test subset (they were not present in the train set, **the model has never seen them!**). We can then compute a measure of error, like for example the Mean Squared Error (MSE) over the predicted values.\n",
                "\n",
                "$$ MSE = \\frac{\\Sigma (y - \\tilde{y})^2}{N}$$\n",
                "\n",
                "**Compute the MSE over the test set by yourself, and validate it against the result from Scikit-learn.**"
            ]
        },
        {
            "cell_type": "code",
            "execution_count": 26,
            "metadata": {},
            "outputs": [
                {
                    "name": "stdout",
                    "output_type": "stream",
                    "text": [
                        "Mean squared error: 0.38\n",
                        "Manual MSE: 0.38\n"
                    ]
                }
            ],
            "source": [
                "# Make predictions using the testing set\n",
                "wine_y_pred = regr.predict(wine_X_test)\n",
                "\n",
                "# Compute the MSE\n",
                "mse = mean_squared_error(wine_y_test, wine_y_pred)\n",
                "\n",
                "# The mean squared error\n",
                "print('Mean squared error: {:.2f}'.format(mse))\n",
                "\n",
                "\n",
                "################################################################\n",
                "# Code here\n",
                "\n",
                "mse_manual = np.power(wine_y_pred - wine_y_test, 2).mean()\n",
                "\n",
                "print('Manual MSE: {:.2f}'.format(mse_manual))"
            ]
        },
        {
            "cell_type": "markdown",
            "metadata": {},
            "source": [
                "## Plotting the results\n",
                "\n",
                "We want to show our results on a scatter plot. The following cell shows the points from the training set.\n",
                "\n",
                "**Add the points from the test set to the graph, and then draw the line corresponding to the predicted values from the model. Use the color red for readability.**"
            ]
        },
        {
            "cell_type": "code",
            "execution_count": 27,
            "metadata": {},
            "outputs": [
                {
                    "data": {
                        "image/png": "[encoded data removed]",
                        "text/plain": [
                            "<Figure size 720x504 with 1 Axes>"
                        ]
                    },
                    "metadata": {
                        "needs_background": "light"
                    },
                    "output_type": "display_data"
                }
            ],
            "source": [
                "plt.figure(figsize=(10, 7))\n",
                "\n",
                "plt.scatter(wine_X_train, wine_y_train, marker='.', color='blue', label='train')\n",
                "\n",
                "\n",
                "######################################################################################\n",
                "# Code here\n",
                "\n",
                "plt.scatter(wine_X_test, wine_y_test, color='red', label='test')\n",
                "plt.plot(wine_X_test, wine_y_pred, color='red', label='predicted')\n",
                "\n",
                "######################################################################################\n",
                "\n",
                "\n",
                "plt.legend()\n",
                "\n",
                "plt.xlabel('Colour intensity')\n",
                "plt.ylabel('Alcohol degree')\n",
                "\n",
                "plt.show()"
            ]
        },
        {
            "cell_type": "markdown",
            "metadata": {},
            "source": [
                "## Equations of the  model\n",
                "\n",
                "We recall that underlying equation of the linear regression model is just a line: $y = a X + b$.\n",
                "\n",
                "**Get the parameters of our trained model, and use them to manually compute this line and plot it on the figure below. It should overlap with the predictions of the model already shown.**\n",
                "\n",
                "Hint: the documentation is your friend, check the attributes section\n",
                "(https://scikit-learn.org/stable/modules/generated/sklearn.linear_model.LinearRegression.html?highlight=linearregression#sklearn.linear_model.LinearRegression)"
            ]
        },
        {
            "cell_type": "code",
            "execution_count": 28,
            "metadata": {},
            "outputs": [
                {
                    "data": {
                        "image/png": "[encoded data removed]",
                        "text/plain": [
                            "<Figure size 720x504 with 1 Axes>"
                        ]
                    },
                    "metadata": {
                        "needs_background": "light"
                    },
                    "output_type": "display_data"
                }
            ],
            "source": [
                "data_X = np.linspace(1, 13, 11)[..., np.newaxis]\n",
                "data_y = regr.predict(data_X)\n",
                "\n",
                "plt.figure(figsize=(10, 7))\n",
                "\n",
                "plt.scatter(wine_X, wine_y, marker='.', color='C2', label='samples')\n",
                "plt.plot(data_X, data_y, label='model')\n",
                "\n",
                "\n",
                "#######################################################################\n",
                "# Code here!\n",
                "\n",
                "slope = regr.coef_\n",
                "origin = regr.intercept_\n",
                "\n",
                "y = slope * data_X + origin\n",
                "\n",
                "plt.plot(data_X, y, '*', label='line')\n",
                "\n",
                "#######################################################################\n",
                "\n",
                "\n",
                "plt.legend()\n",
                "plt.xlabel('Colour intensity')\n",
                "plt.ylabel('Alcohol degree')\n",
                "\n",
                "plt.show()"
            ]
        },
        {
            "cell_type": "markdown",
            "metadata": {},
            "source": [
                "## What happens inside?\n",
                "\n",
                "The linear regression (with L2 loss) problem $\\vec{y} = X \\vec\\beta$ has a known analytical solution: \n",
                "\n",
                "$$ \\vec\\beta^* = (X^TX)^{-1}X^T\\vec{y} $$\n",
                "\n",
                "When fitting a linear regression model over our data, Scikit-learn solves this for us.\n",
                "\n",
                "**Implement this equation and check that you get the same result as when using Scikit-learn.**\n",
                "\n",
                "Hint: you will need\n",
                "* `array.T` for transpose\n",
                "* `np.linalg.inv(array)` for inverse\n",
                "* `np.concatenate` for something... \n",
                "\n",
                "*Do not forget to add a column of 1 in X, otherwise the independent term is not computed => create X = (1 X)*"
            ]
        },
        {
            "cell_type": "code",
            "execution_count": 29,
            "metadata": {},
            "outputs": [
                {
                    "name": "stdout",
                    "output_type": "stream",
                    "text": [
                        "Scikit beta =  [12.03286386  0.19132798]\n",
                        "Manual beta =  [12.03286386  0.19132798]\n"
                    ]
                }
            ],
            "source": [
                "regr = linear_model.LinearRegression().fit(wine_X, wine_y)\n",
                "\n",
                "beta = np.array((regr.intercept_, regr.coef_[0]))\n",
                "print('Scikit beta = ', beta)\n",
                "\n",
                "\n",
                "############################################################\n",
                "# Code here\n",
                "\n",
                "ones = np.ones((wine_X.shape[0], 1))\n",
                "X = np.concatenate([ones, wine_X], axis=1)\n",
                "\n",
                "beta = np.linalg.inv(X.T @ X) @ (X.T @ wine_y)\n",
                "\n",
                "print('Manual beta = ', beta)"
            ]
        }
    ],
    "metadata": {
        "kernelspec": {
            "display_name": "Python 3.9.2 64-bit ('EE-311': conda)",
            "metadata": {
                "interpreter": {
                    "hash": "db734ea26a196ad9928676fec5e4456a21f9aede461247961995991803520182"
                }
            },
            "name": "python3"
        },
        "language_info": {
            "codemirror_mode": {
                "name": "ipython",
                "version": 3
            },
            "file_extension": ".py",
            "mimetype": "text/x-python",
            "name": "python",
            "nbconvert_exporter": "python",
            "pygments_lexer": "ipython3",
            "version": "3.9.10"
        }
    },
    "nbformat": 4,
    "nbformat_minor": 4
}
