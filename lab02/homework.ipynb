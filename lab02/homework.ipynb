{
    "cells": [
        {
            "cell_type": "markdown",
            "metadata": {},
            "source": [
                "EE-311\n",
                "======\n",
                "\n",
                "Lab 2: NumPy, Matplotlib and Scikit-learn (linear regression example)\n",
                "---------------------------------------------------------------------\n",
                "\n",
                "created by François Marelli on 03.03.2021"
            ]
        },
        {
            "cell_type": "markdown",
            "metadata": {},
            "source": [
                "## Mock homework\n",
                "\n",
                "The file `mock.py` contains a mock homework. It contains empty templates for functions that must be filled for the mock homework.\n",
                "\n",
                "The solution to it will be given in `mock_solved.py`.\n",
                "\n",
                "The first task of the mock homework is to write a function that sums all elements in a given array that are bigger than a threshold.\n",
                "\n",
                "The second task of the mock homework is to use a trained linear regression model to predict new label values.\n",
                "\n",
                "**Do not change the function definitions in the file!**\n",
                "\n",
                "The following cell can be used for manual testing."
            ]
        },
        {
            "cell_type": "code",
            "execution_count": 1,
            "metadata": {},
            "outputs": [
                {
                    "name": "stdout",
                    "output_type": "stream",
                    "text": [
                        "7\n"
                    ]
                }
            ],
            "source": [
                "import mock\n",
                "import numpy as np\n",
                "\n",
                "import importlib\n",
                "importlib.reload(mock)\n",
                "\n",
                "array = np.arange(5)\n",
                "thresh = 2\n",
                "\n",
                "result = mock.sum_bigger(array, thresh)\n",
                "\n",
                "print(result)"
            ]
        },
        {
            "cell_type": "markdown",
            "metadata": {},
            "source": [
                "## Mock test cell\n",
                "\n",
                "Run this cell to check whether your mock homework passes the test.\n",
                "\n",
                "Do not hesitate to read the details in the errors in case of failure to know why the tests failed."
            ]
        },
        {
            "cell_type": "code",
            "execution_count": 2,
            "metadata": {},
            "outputs": [
                {
                    "name": "stderr",
                    "output_type": "stream",
                    "text": [
                        "..\n",
                        "----------------------------------------------------------------------\n",
                        "Ran 2 tests in 0.003s\n",
                        "\n",
                        "OK\n"
                    ]
                },
                {
                    "data": {
                        "text/plain": [
                            "<unittest.main.TestProgram at 0x7fa6a0f62b50>"
                        ]
                    },
                    "execution_count": 2,
                    "metadata": {},
                    "output_type": "execute_result"
                }
            ],
            "source": [
                "import unittest\n",
                "import testing_mock\n",
                "\n",
                "import importlib\n",
                "importlib.reload(testing_mock)\n",
                "\n",
                "unittest.main(module=testing_mock, argv=['first-arg-is-ignored'], exit=False)"
            ]
        },
        {
            "cell_type": "markdown",
            "metadata": {},
            "source": [
                "## Homework\n",
                "\n",
                "The file `homework.py` contains the homework of the week. It contains empty functions that must be completed according to the instructions.\n",
                "\n",
                "When the homework is completed, it must be submitted on Moodle for grading.\n",
                "\n",
                "**Do not change the function definitions in the file!**\n",
                "\n",
                "The first task of the homework is to write a function that returns the mean of all the odd elements in an array.\n",
                "\n",
                "The second task of the homework is to train a linear regression model on the given dataset.\n",
                "\n",
                "The following cell can be used for manual testing."
            ]
        },
        {
            "cell_type": "code",
            "execution_count": 11,
            "metadata": {},
            "outputs": [
                {
                    "name": "stdout",
                    "output_type": "stream",
                    "text": [
                        "Help on function mean_odd in module homework:\n",
                        "\n",
                        "mean_odd(array)\n",
                        "    Compute the mean of all the odd elements in an array\n",
                        "    \n",
                        "    Parameters:\n",
                        "        array: ndarray (int), the array we want to process (it contains at least 1 odd number)\n",
                        "    \n",
                        "    Returns:\n",
                        "        result: float, the mean of all the odd elements in the input array\n",
                        "\n",
                        "2.0\n"
                    ]
                }
            ],
            "source": [
                "import homework\n",
                "import numpy as np\n",
                "\n",
                "import importlib\n",
                "importlib.reload(homework)\n",
                "\n",
                "array = np.arange(5)\n",
                "\n",
                "result = homework.mean_odd(array)\n",
                "\n",
                "print(result)"
            ]
        },
        {
            "cell_type": "markdown",
            "metadata": {},
            "source": [
                "## Test cell\n",
                "\n",
                "Run this cell to check whether your homework passes the test.\n",
                "\n",
                "**If the homework is correct, it will pass all the tests successfully.**"
            ]
        },
        {
            "cell_type": "code",
            "execution_count": 5,
            "metadata": {},
            "outputs": [
                {
                    "name": "stderr",
                    "output_type": "stream",
                    "text": [
                        "..\n",
                        "----------------------------------------------------------------------\n",
                        "Ran 2 tests in 0.006s\n",
                        "\n",
                        "OK\n"
                    ]
                },
                {
                    "data": {
                        "text/plain": [
                            "<unittest.main.TestProgram at 0x7fa64f82cf10>"
                        ]
                    },
                    "execution_count": 5,
                    "metadata": {},
                    "output_type": "execute_result"
                }
            ],
            "source": [
                "import unittest\n",
                "import testing\n",
                "\n",
                "import importlib\n",
                "importlib.reload(testing)\n",
                "\n",
                "unittest.main(module=testing, argv=['first-arg-is-ignored'], exit=False)"
            ]
        }
    ],
    "metadata": {
        "kernelspec": {
            "display_name": "Python 3",
            "language": "python",
            "name": "python3"
        },
        "language_info": {
            "codemirror_mode": {
                "name": "ipython",
                "version": 3
            },
            "file_extension": ".py",
            "mimetype": "text/x-python",
            "name": "python",
            "nbconvert_exporter": "python",
            "pygments_lexer": "ipython3",
            "version": "3.11.6"
        }
    },
    "nbformat": 4,
    "nbformat_minor": 4
}
