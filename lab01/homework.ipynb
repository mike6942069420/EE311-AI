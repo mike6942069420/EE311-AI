{
    "cells": [
        {
            "cell_type": "markdown",
            "metadata": {},
            "source": [
                "EE-311\n",
                "======\n",
                "\n",
                "Lab 1: Introduction to Python\n",
                "-------------------------------------------------------\n",
                "\n",
                "created by Francois Marelli on 22.02.2021"
            ]
        },
        {
            "cell_type": "markdown",
            "metadata": {},
            "source": [
                "## Mock homework\n",
                "\n",
                "The file `mock.py` contains a mock homework. It contains empty templates for functions that must be filled for the mock homework.\n",
                "\n",
                "The solution to it will be given in `mock_solved.py`.\n",
                "\n",
                "The first task of the mock homework is to write a function that computes the result of the following equation:\n",
                "$$y = -\\frac{1+x}{3x^2 + \\exp(x)}$$\n",
                "\n",
                "The second task of the mock homework is to write a function that checks if the input is both strictly bigger than 0 and smaller or equal to 5.\n",
                "\n",
                "**Do not change the function definitions in the file!**\n",
                "\n",
                "The following cell can be used for manual testing. Remember to save your changes before testing."
            ]
        },
        {
            "cell_type": "code",
            "execution_count": null,
            "metadata": {},
            "outputs": [],
            "source": [
                "import mock\n",
                "\n",
                "import importlib\n",
                "importlib.reload(mock)\n",
                "# The lines above must never be edited or removed\n",
                "# They are used to load the homework\n",
                "# Do not forget to save your changes in the homework file before running this!\n",
                "\n",
                "# We can access the functions in our solution like a library\n",
                "result = mock.equation(2)\n",
                "\n",
                "# This should be equal to the value in the homework!\n",
                "print(result)\n",
                "\n",
                "# Test your second solution with some values to check its validity.\n"
            ]
        },
        {
            "cell_type": "markdown",
            "metadata": {},
            "source": [
                "## Mock test cell\n",
                "\n",
                "Run this cell to check whether your mock homework passes the test.\n",
                "\n",
                "Do not hesitate to read the details in the errors in case of failure to know why the tests failed."
            ]
        },
        {
            "cell_type": "code",
            "execution_count": null,
            "metadata": {},
            "outputs": [],
            "source": [
                "import unittest\n",
                "import testing_mock\n",
                "\n",
                "import importlib\n",
                "importlib.reload(testing_mock)\n",
                "\n",
                "unittest.main(module=testing_mock, argv=['first-arg-is-ignored'], exit=False)"
            ]
        }
    ],
    "metadata": {
        "kernelspec": {
            "display_name": "Python 3",
            "language": "python",
            "name": "python3"
        },
        "language_info": {
            "codemirror_mode": {
                "name": "ipython",
                "version": 3
            },
            "file_extension": ".py",
            "mimetype": "text/x-python",
            "name": "python",
            "nbconvert_exporter": "python",
            "pygments_lexer": "ipython3",
            "version": "3.9.2"
        }
    },
    "nbformat": 4,
    "nbformat_minor": 4
}