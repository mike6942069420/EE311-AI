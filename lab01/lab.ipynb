{
    "cells": [
        {
            "cell_type": "markdown",
            "metadata": {},
            "source": [
                "EE-311\n",
                "======\n",
                "\n",
                "Lab 1: Introduction to Python\n",
                "-------------------------------------------------------\n",
                "\n",
                "created by Francois Marelli on 22.02.2021"
            ]
        },
        {
            "cell_type": "markdown",
            "metadata": {},
            "source": [
                "## Disclaimer\n",
                "\n",
                "The purpose of this lab session is not to give a detailed description of Python, but only to introduce the concepts needed for this course. For more details and technical information, please refer to the official Python documentation <https://www.python.org/>.\n",
                "\n",
                "## What is Python?\n",
                "\n",
                "Python is a high-level interpreted programming language. Instead of being compiled, a Python code is interpreted at the time of running. This means that it can be run interactively line by line. For this course we will use Python 3, the latest version of the language.\n",
                "\n",
                "## Python notebooks\n",
                "\n",
                "\n",
                "There are three main ways to use Python:\n",
                "* **Python interpreter**: typing lines in a terminal and executing them one by one\n",
                "* **Python source files**: writing a whole code in a file that is then executed as a hole\n",
                "* **Python Notebooks**: a savant mix of both, writing code \"cells\" that are then executed interactively\n",
                "\n",
                "For the lab sessions, we will use notebooks (this is one!). Homework will be given in the form of a Python source file to be completed.\n",
                "\n",
                "Notebooks contain multiple code cells. Each cell can be seen as a small source file that is run as a block. For example, the cell below prints a hello world message using two lines of code (we will explain those later). Try running it by clicking on it and hitting *CTRL+ENTER*, or by clicking on the \"play\" button on top."
            ]
        },
        {
            "cell_type": "code",
            "execution_count": null,
            "metadata": {},
            "outputs": [],
            "source": [
                "print(\"Hello\")\n",
                "print(\"world.\")"
            ]
        },
        {
            "cell_type": "markdown",
            "metadata": {},
            "source": [
                "You can add new empty cells by clicking on the \"Plus\" button on top. Add a new cell below this one by clicking first on this text, then on the insertion button."
            ]
        },
        {
            "cell_type": "markdown",
            "metadata": {},
            "source": [
                "In practice, running a cell is equivalent to running every single line of it in a terminal, but far more convenient.\n",
                "\n",
                "It is important to know that the Python interpreter used to run the cells stays the same over time. In practice, it means that the **cells that ran in the past can impact the ones we run next**. For example, we can define a variable in one cell, and print it in an other cell."
            ]
        },
        {
            "cell_type": "code",
            "execution_count": null,
            "metadata": {},
            "outputs": [],
            "source": [
                "a_variable = 1"
            ]
        },
        {
            "cell_type": "code",
            "execution_count": null,
            "metadata": {},
            "outputs": [],
            "source": [
                "print(a_variable)"
            ]
        },
        {
            "cell_type": "markdown",
            "metadata": {},
            "source": [
                "Because of this, the order in which we run the cells is important, **always keep in mind that the result of a specific cell may depend on what was run before it**. For example, running the following cell multiple times in a row gives different results. Try running it a couple of times, then run the previous cell again to see how it is impacted."
            ]
        },
        {
            "cell_type": "code",
            "execution_count": null,
            "metadata": {},
            "outputs": [],
            "source": [
                "a_variable = a_variable + 1\n",
                "print(a_variable)"
            ]
        },
        {
            "cell_type": "markdown",
            "metadata": {},
            "source": [
                "You can keep track of the order in which the cells were run thanks to the number in square brackets to the left. If a cell ran multiple times, only the last one is shown in brackets. You can restart the interpreter using the \"Restart the kernel\" button at the top if you wish to start working from a blank state again. As an exercise, run the following cell (it will print the current value of our variable). Then, restart the kernel and try running this cell first: the variable does not exist anymore and the code gives an error!"
            ]
        },
        {
            "cell_type": "code",
            "execution_count": null,
            "metadata": {},
            "outputs": [],
            "source": [
                "print(\"Our variable value:\", a_variable)"
            ]
        },
        {
            "cell_type": "markdown",
            "metadata": {},
            "source": [
                "## Variables and types\n",
                "\n",
                "We can use variables to store values in our code. Python uses dynamic typing. It means that variables do not need to be declared with a specific datatype. We can directly assign a value to a new variable name (assignment is done using the equal sign), like shown in the following cell. The type of the variable will be automatically assigned."
            ]
        },
        {
            "cell_type": "code",
            "execution_count": null,
            "metadata": {},
            "outputs": [],
            "source": [
                "# This is a 1-line comment, starting with a #\n",
                "# We create a variable named \"good_name\", and assign to it a value of 1\n",
                "good_name = 1\n",
                "\n",
                "# We print the type of our variable: it is an 'int' -> integer\n",
                "print( type(good_name) )"
            ]
        },
        {
            "cell_type": "markdown",
            "metadata": {},
            "source": [
                "Moreover, we can assign a new value to an existing variable and its type will be automatically updated:"
            ]
        },
        {
            "cell_type": "code",
            "execution_count": null,
            "metadata": {},
            "outputs": [],
            "source": [
                "# We create a new variable containing a decimal number\n",
                "other_name = 3.5\n",
                "\n",
                "# Printing the type gives 'float' -> floating point number\n",
                "print(type(other_name))\n",
                "\n",
                "# We assign a text value to our existing variable (it replaces its previous value)\n",
                "other_name = \"This is a string\"\n",
                "\n",
                "# Its type has been updated to 'str' -> string (the datatype used for text)\n",
                "print(type(other_name))"
            ]
        },
        {
            "cell_type": "markdown",
            "metadata": {},
            "source": [
                "Single quotes and double quotes can both be used for strings. They are equivalent in Python."
            ]
        },
        {
            "cell_type": "code",
            "execution_count": null,
            "metadata": {},
            "outputs": [],
            "source": [
                "a_name = 'This is a string with single quotes'\n",
                "print(type(a_name))\n",
                "\n",
                "b_name = \"This is a string with double quotes\"\n",
                "print(type(b_name))"
            ]
        },
        {
            "cell_type": "markdown",
            "metadata": {},
            "source": [
                "It is possible to assign \"no value\" to a variable using `None`:"
            ]
        },
        {
            "cell_type": "code",
            "execution_count": null,
            "metadata": {},
            "outputs": [],
            "source": [
                "a_variable = None\n",
                "\n",
                "print(a_variable)"
            ]
        },
        {
            "cell_type": "markdown",
            "metadata": {},
            "source": [
                "### Basic operators\n",
                "\n",
                "Here are the basic math operators:\n",
                "* `+` (addition)\n",
                "* `-` (subtraction)\n",
                "* `*` (multiplication)\n",
                "* `/` (division)\n",
                "\n",
                "Use parentheses to group operations like `(a+b) * c`.\n",
                "\n",
                "Note that in Python, dividing an integer number by another integer will automatically return a float if the result is not integer, as shown below."
            ]
        },
        {
            "cell_type": "code",
            "execution_count": null,
            "metadata": {},
            "outputs": [],
            "source": [
                "a = 1\n",
                "b = 2\n",
                "\n",
                "print(type(a))\n",
                "print(type(b))\n",
                "\n",
                "# Dividing an int by an int\n",
                "c = a / b\n",
                "\n",
                "# The result is a float!\n",
                "print(c)\n",
                "print(type(c))"
            ]
        },
        {
            "cell_type": "markdown",
            "metadata": {},
            "source": [
                "We will also need the following:"
            ]
        },
        {
            "cell_type": "code",
            "execution_count": null,
            "metadata": {},
            "outputs": [],
            "source": [
                "# power\n",
                "print(\"2 ** 3 =\", 2 ** 3 )\n",
                "\n",
                "print()\n",
                "\n",
                "# modulo\n",
                "print(\"11 % 3 =\", 11 % 3)"
            ]
        },
        {
            "cell_type": "markdown",
            "metadata": {},
            "source": [
                "### Lists and tuples\n",
                "\n",
                "Lists are a datatype that can contain multiple values (of any type). They are created using square brackets."
            ]
        },
        {
            "cell_type": "code",
            "execution_count": null,
            "metadata": {},
            "outputs": [],
            "source": [
                "# We create a list containing 3 elements\n",
                "a_list = [\"one\", 2, 3.0]\n",
                "\n",
                "print(a_list)\n",
                "\n",
                "# We create an empty list\n",
                "\n",
                "b_list = []\n",
                "\n",
                "print(b_list)"
            ]
        },
        {
            "cell_type": "markdown",
            "metadata": {},
            "source": [
                "Specific elements from a list can be retrieved by accessing their index in square brackets. In Python, the first index of a list is 0."
            ]
        },
        {
            "cell_type": "code",
            "execution_count": null,
            "metadata": {},
            "outputs": [],
            "source": [
                "# We print each element of the list in order\n",
                "print(a_list[0])\n",
                "print(a_list[1])\n",
                "print(a_list[2])"
            ]
        },
        {
            "cell_type": "markdown",
            "metadata": {},
            "source": [
                "We can use negative indexes to access elements in the list starting from the end. -1 refers to the last element, -2 the second to last, etc."
            ]
        },
        {
            "cell_type": "code",
            "execution_count": null,
            "metadata": {},
            "outputs": [],
            "source": [
                "# We print each element of the list, starting from the end\n",
                "print(a_list[-1])\n",
                "print(a_list[-2])\n",
                "print(a_list[-3])"
            ]
        },
        {
            "cell_type": "markdown",
            "metadata": {},
            "source": [
                "We can assign new values to any element in the list, and add new ones using `append`. We can know how many elements are in a list by calling `len`."
            ]
        },
        {
            "cell_type": "code",
            "execution_count": null,
            "metadata": {},
            "outputs": [],
            "source": [
                "# We change the value of the third element in our list\n",
                "a_list[2] = 'third'\n",
                "print(a_list)\n",
                "# The list contains 3 elements\n",
                "print('Length:', len(a_list))\n",
                "\n",
                "print()\n",
                "\n",
                "# We add a fourth element to it\n",
                "a_list.append(4.0)\n",
                "print(a_list)\n",
                "# The list now contains 4 elements\n",
                "print('Length:', len(a_list))"
            ]
        },
        {
            "cell_type": "markdown",
            "metadata": {},
            "source": [
                "It is possible to access multiple elements in a list at once using slicing. The syntax is the following:\n",
                "\n",
                "`start_index : stop_index : step`\n",
                "\n",
                "This will select all elements with indexes starting at `start_index` until `stop_index` not included, with the given step size (a negative step size will go through the list in reverse order).\n",
                "\n",
                "Any of these three slots can be left empty if it is not needed.\n",
                "\n",
                "The following cell illustrates this on a bigger list."
            ]
        },
        {
            "cell_type": "code",
            "execution_count": null,
            "metadata": {},
            "outputs": [],
            "source": [
                "big_list = [0, 1, 2, 3, 4, 5, 6, 7, 8, 9]\n",
                "\n",
                "# slice from start=2 to stop=5 (not included) with a step of 1\n",
                "print(big_list[2:5:1])\n",
                "\n",
                "# does the same, if the step size is not specified it is 1\n",
                "print(big_list[2:5])\n",
                "\n",
                "# slice all elements until index 6\n",
                "print(big_list[:6])\n",
                "\n",
                "# slice all elements starting at index 4\n",
                "print(big_list[4:])\n",
                "\n",
                "# slice all elements, but with a step of 2\n",
                "print(big_list[::2])\n",
                "\n",
                "# slice all elements starting at index 5 and in backwards direction\n",
                "print(big_list[5::-1])"
            ]
        },
        {
            "cell_type": "markdown",
            "metadata": {},
            "source": [
                "Tuples are created using parentheses. They are similar to lists, but they cannot be modified after they are created.\n",
                "\n",
                "The following cell crashes when we try to change the value of the first element of the tuple."
            ]
        },
        {
            "cell_type": "code",
            "execution_count": null,
            "metadata": {},
            "outputs": [],
            "source": [
                "a_tuple = ('zero', 1, 2.0, \"third\")\n",
                "\n",
                "print(a_tuple[2])\n",
                "\n",
                "a_tuple[0] = 4"
            ]
        },
        {
            "cell_type": "markdown",
            "metadata": {},
            "source": [
                "## Control logics\n",
                "\n"
            ]
        },
        {
            "cell_type": "markdown",
            "metadata": {},
            "source": [
                "### Conditional clauses\n",
                "\n",
                "`if` clauses can be used to run parts of the code conditionally. In Python, no parentheses are needed around the condition. The syntax is the following:\n",
                "\n",
                "    if <condition> :\n",
                "        code\n",
                "    elif <condition> :\n",
                "        code\n",
                "    else:\n",
                "        code\n",
                "\n",
                "Possible conditions are:\n",
                "* `==` for equality\n",
                "* `!=` for inequality\n",
                "* `<`, `>`, `<=` and `>=` for comparison\n",
                "\n",
                "The result of these operators are boolean values that can be either `True` or `False`. Multiple conditions can be combined using the keywords `and` and `or`.\n",
                "\n",
                "Instead of brackets, Python uses indentation to define what code is part of the condition. See in the example below what lines are part of the condition and what parts are not. Try changing the value of `a` to run the code inside the condition block.\n"
            ]
        },
        {
            "cell_type": "code",
            "execution_count": null,
            "metadata": {},
            "outputs": [],
            "source": [
                "a = 0\n",
                "\n",
                "if a != 0:\n",
                "    print(\"this is inside the condition\")\n",
                "    print(\"this is also in the condition\")\n",
                "\n",
                "    print(\"this is in the condition too\")\n",
                "\n",
                "print(\"this is outside the condition\")"
            ]
        },
        {
            "cell_type": "markdown",
            "metadata": {},
            "source": [
                "Python is very strict about indentation, and incorrect indents will cause the code to crash. For example, mixing tabs with spaces is not allowed, and indentation can only appear to isolate code blocks (in conditions for example). See why the following cell is incorrect, and modify it so that it runs."
            ]
        },
        {
            "cell_type": "code",
            "execution_count": null,
            "metadata": {},
            "outputs": [],
            "source": [
                "print('This is first line')\n",
                " print('This is second line')"
            ]
        },
        {
            "cell_type": "markdown",
            "metadata": {},
            "source": [
                "The following cell gives an example of a more complex conditional block. Can you change the value of `a` to get all possible outputs?"
            ]
        },
        {
            "cell_type": "code",
            "execution_count": null,
            "metadata": {},
            "outputs": [],
            "source": [
                "a = 11\n",
                "\n",
                "if a == 11 or a == 13:\n",
                "    print(\"a is 11 or 13\")\n",
                "elif a % 2 == 0 and a > 0:\n",
                "    print(\"a is strictly positive and even\")\n",
                "elif a <= 0:\n",
                "    print(\"a is negative\")\n",
                "elif a != 1:\n",
                "    print(\"a is not 1\")\n",
                "else:\n",
                "    print(\"none of the above\")"
            ]
        },
        {
            "cell_type": "markdown",
            "metadata": {},
            "source": [
                "We can check for `None` values using the `is` keyword:"
            ]
        },
        {
            "cell_type": "code",
            "execution_count": null,
            "metadata": {},
            "outputs": [],
            "source": [
                "a = None\n",
                "\n",
                "if a is None:\n",
                "    print('a is None!')"
            ]
        },
        {
            "cell_type": "markdown",
            "metadata": {},
            "source": [
                "### Loops\n",
                "\n",
                "Loops allow to repeat a portion of the code multiple times.\n",
                "\n",
                "`while` loops repeat as long as a condition is True. The syntax is:\n",
                "\n",
                "    while <condition> :\n",
                "        code\n",
                "\n",
                "Like for the `if` blocks, no parentheses or brackets are needed. The indented block following the `while` instruction will be repeated."
            ]
        },
        {
            "cell_type": "code",
            "execution_count": null,
            "metadata": {},
            "outputs": [],
            "source": [
                "value = 0\n",
                "\n",
                "while value < 5:\n",
                "    print(\"looping\")\n",
                "    value = value + 1"
            ]
        },
        {
            "cell_type": "markdown",
            "metadata": {},
            "source": [
                "*for* loops iterate over a list of values. They can be used to iterate over a list, or to repeat for a chosen number of times using `range`. The syntax is:\n",
                "\n",
                "    for <variable> in <iterable>:\n",
                "        code"
            ]
        },
        {
            "cell_type": "code",
            "execution_count": null,
            "metadata": {},
            "outputs": [],
            "source": [
                "a_list = ['first', 'second', 'third']\n",
                "\n",
                "print('Loop over list:')\n",
                "\n",
                "for a_variable in a_list:\n",
                "    print(a_variable)\n",
                "\n",
                "print()\n",
                "print('Loop over range:')\n",
                "\n",
                "for a_variable in range(5):\n",
                "    print(a_variable)"
            ]
        },
        {
            "cell_type": "markdown",
            "metadata": {},
            "source": [
                "## Functions\n",
                "\n",
                "Functions are blocks of code that can be called to realise a specific task. They can take input arguments, and they can output values.\n",
                "\n",
                "The syntax to call a function is the following:\n",
                "\n",
                "`outputs = function_name( input_arguments )`\n",
                "\n",
                "The outputs can be omitted if they are not needed or if the function does not return anything.\n",
                "\n",
                "We have already used some built-in functions from Python:\n",
                "* `print(args)` prints all the input arguments to the console\n",
                "* `type(arg)` returns the type of the input argument\n",
                "* `len(iter)` returns the length of iterable (list-like) input argument\n",
                "\n",
                "We can also define our own functions using the following syntax (once again relying on indentation):\n",
                "\n",
                "    def <function_name> (<input_arguments>):\n",
                "        code\n",
                "\n",
                "An optional `return <output>` can be used if we want the function to return output values. If multiple values are needed, the function should return a tuple (multiple variables separated by commas).\n",
                "\n",
                "The following cell shows an example of a function that prints and returns the second element of any list. It is not very useful."
            ]
        },
        {
            "cell_type": "code",
            "execution_count": null,
            "metadata": {},
            "outputs": [],
            "source": [
                "def print_second(input_list):\n",
                "    second_element = input_list[1]\n",
                "    print(second_element)\n",
                "    return second_element\n",
                "\n",
                "a_list = [0, 1, 2, 3, 4]\n",
                "\n",
                "output = print_second(a_list)\n",
                "\n",
                "print('Output:', output)"
            ]
        },
        {
            "cell_type": "markdown",
            "metadata": {},
            "source": [
                "Input arguments can have default values, given using equal sign in the function definition. The arguments with default values must come last in the arguments list. When calling a function, the arguments with a default value are optional. The following cell gives an example with a useless function:"
            ]
        },
        {
            "cell_type": "code",
            "execution_count": null,
            "metadata": {},
            "outputs": [],
            "source": [
                "def useless(a, b, c='default c', d='La reponse D'):\n",
                "    print(a)\n",
                "    print(b)\n",
                "    print(c)\n",
                "    print(d)\n",
                "\n",
                "# We only give 2 input arguments as the last 2 have default values and are optional\n",
                "useless(1, 2)"
            ]
        },
        {
            "cell_type": "markdown",
            "metadata": {},
            "source": [
                "When calling a function, the names of the input arguments can be specified. This is useful in the previous example for example, if we want to give a value to `d` but not `c`. Named arguments must come last in the function call, as shown in the following example:"
            ]
        },
        {
            "cell_type": "code",
            "execution_count": null,
            "metadata": {},
            "outputs": [],
            "source": [
                "# Even if the third argument is c, our value is given to d because the input is named\n",
                "useless('a', 'b', d='Something new')"
            ]
        },
        {
            "cell_type": "markdown",
            "metadata": {},
            "source": [
                "Functions which do not have a `return` call will return `None` by default."
            ]
        },
        {
            "cell_type": "code",
            "execution_count": null,
            "metadata": {},
            "outputs": [],
            "source": [
                "def no_return():\n",
                "    print('There is no return here')\n",
                "\n",
                "output = no_return()\n",
                "\n",
                "print('Return value:', output)"
            ]
        },
        {
            "cell_type": "markdown",
            "metadata": {},
            "source": [
                "## Libraries\n",
                "\n",
                "Libraries are extensions to Python that can be added to our code to provide additional functionalities, such as variables and functions. They are called using the `import` keyword. Importing a libraries will make all its functions and variables available in the code. One useful example is the `math` library which provides additional mathematical tools.\n",
                "\n",
                "Once a library is imported, its contents can be used with the following syntax:\n",
                "`library_name.function_or_variable_name`\n",
                "\n",
                "See the example in the cell below, where we compute the cosine of pi thanks to the math library."
            ]
        },
        {
            "cell_type": "code",
            "execution_count": null,
            "metadata": {},
            "outputs": [],
            "source": [
                "import math\n",
                "\n",
                "print(\"Pi is:\", math.pi)\n",
                "print(\"cosine of pi is:\", math.cos(math.pi))"
            ]
        },
        {
            "cell_type": "markdown",
            "metadata": {},
            "source": [
                "It is also possible to import only specific functions of a library. They can then be called directly, without using the name of the library.\n",
                "This is done with the following syntax: `from <library_name> import <function_name>`."
            ]
        },
        {
            "cell_type": "code",
            "execution_count": null,
            "metadata": {},
            "outputs": [],
            "source": [
                "# We import only cos from the library math\n",
                "from math import cos\n",
                "\n",
                "# We do not need to use math.cos anymore\n",
                "print(cos(0))"
            ]
        },
        {
            "cell_type": "markdown",
            "metadata": {},
            "source": [
                "# Time for some practice!\n",
                "\n",
                "Now that we went over the basic concept, it is time to code! Try to solve the following problems.\n",
                "\n",
                "1. What is the following cell going to print? Why?"
            ]
        },
        {
            "cell_type": "code",
            "execution_count": 1,
            "metadata": {},
            "outputs": [
                {
                    "name": "stdout",
                    "output_type": "stream",
                    "text": [
                        "[7, 5, 3]\n"
                    ]
                }
            ],
            "source": [
                "big_list = [0, 1, 2, 3, 4, 5, 6, 7, 8, 9]\n",
                "sliced = big_list[-3:1:-2]\n",
                "\n",
                "print(sliced)"
            ]
        },
        {
            "cell_type": "markdown",
            "metadata": {},
            "source": [
                "2. Slice the following lists in order to isolate all the zeros."
            ]
        },
        {
            "cell_type": "code",
            "execution_count": null,
            "metadata": {},
            "outputs": [],
            "source": [
                "list_a = [1, 0, 0, 0, 0, 0, 1, 1, 1]\n",
                "list_b = [1, 1, 0, 1, 1, 0, 1, 1, 1]"
            ]
        },
        {
            "cell_type": "markdown",
            "metadata": {},
            "source": [
                "3. Which integer value of `a` will print \"success\" in the following cell?\n",
                "(`pass` is a keyword that means \"do nothing\")"
            ]
        },
        {
            "cell_type": "code",
            "execution_count": null,
            "metadata": {},
            "outputs": [],
            "source": [
                "a = 0\n",
                "\n",
                "if a <= 0 or a == 10:\n",
                "    pass\n",
                "elif a % 2 == 1:\n",
                "    pass\n",
                "if a >= 3:\n",
                "    pass\n",
                "elif a > -4 and a % 2 == 0:\n",
                "    pass\n",
                "elif a ** 2 == a:\n",
                "    pass\n",
                "elif a > 10 or a > -2:\n",
                "    print(\"success\")\n",
                "    print(a)\n",
                "elif a < 0:\n",
                "    pass\n"
            ]
        },
        {
            "cell_type": "markdown",
            "metadata": {},
            "source": [
                "4. Using a loop, create a list that contains only the odd elements of the given data."
            ]
        },
        {
            "cell_type": "code",
            "execution_count": null,
            "metadata": {},
            "outputs": [],
            "source": [
                "input_data = [0, 3, 1, 5, 6, 3, 4, 7, 5, 6, 9, 8, 4]\n",
                "# output should be [3, 1, 5, 3, 7, 5, 9]\n"
            ]
        },
        {
            "cell_type": "markdown",
            "metadata": {},
            "source": [
                "5. Write a function that returns both the index of the maximum element and its value in a list of numbers.\n",
                "Test it on the given lists."
            ]
        },
        {
            "cell_type": "code",
            "execution_count": null,
            "metadata": {},
            "outputs": [],
            "source": [
                "list_a = [0, 9, 2, 3, 8, 5] # answer must be 1, 9\n",
                "list_b = [1, 2, 5, 3, 8, 6] # answer must be 4, 8"
            ]
        },
        {
            "cell_type": "markdown",
            "metadata": {},
            "source": [
                "6. Write a function that takes a list as input, and returns a list containing its cumulative sums (see formula below).\n",
                "\n",
                "$$B_i = \\Sigma_{j=0}^i A_j$$"
            ]
        },
        {
            "cell_type": "code",
            "execution_count": null,
            "metadata": {},
            "outputs": [],
            "source": [
                "input_list = [1, 3, 2, 3, 1, 3, 5]\n",
                "# answer: [1, 4, 6, 9, 10, 13, 18]"
            ]
        },
        {
            "cell_type": "markdown",
            "metadata": {},
            "source": [
                "7. Using the math library (`math.exp`), compute the following:\n",
                "$$y = -\\frac{1+x}{3x^2 + \\exp(x)}$$\n"
            ]
        },
        {
            "cell_type": "code",
            "execution_count": null,
            "metadata": {},
            "outputs": [],
            "source": [
                "x = 2\n",
                "# answer: y = -0.15472645933318313"
            ]
        }
    ],
    "metadata": {
        "kernelspec": {
            "display_name": "Python 3",
            "language": "python",
            "name": "python3"
        },
        "language_info": {
            "codemirror_mode": {
                "name": "ipython",
                "version": 3
            },
            "file_extension": ".py",
            "mimetype": "text/x-python",
            "name": "python",
            "nbconvert_exporter": "python",
            "pygments_lexer": "ipython3",
            "version": "3.7.10"
        }
    },
    "nbformat": 4,
    "nbformat_minor": 2
}