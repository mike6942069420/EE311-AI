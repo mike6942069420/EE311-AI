{
    "cells": [
        {
            "cell_type": "markdown",
            "metadata": {},
            "source": [
                "EE-311\n",
                "======\n",
                "\n",
                "Lab 3: logistic regression and gradient descent\n",
                "----------------------------------------\n",
                "\n",
                "created by Francois Marelli on 05.03.2020"
            ]
        },
        {
            "cell_type": "markdown",
            "metadata": {},
            "source": [
                "# Homework\n",
                "\n",
                "The file `homework.py` contains the homework of the week. It contains empty functions that must be completed according to the instructions.\n",
                "\n",
                "When the homework is completed, it must be submitted on Moodle for grading.\n",
                "\n",
                "**Do not change the function definitions in the file!**\n",
                "\n",
                "\n",
                "## Logistic regression: gradient descent\n",
                "\n",
                "In the lab session, we have seen what a logistic regression model is, and how it can be used to solve binary classification problems. We have also seen how to use gradient descent algorithms to find numerical solutions to optimization problems.\n",
                "\n",
                "The objective of this homework is to manually implement and train a logistic regression model for binary classification.\n",
                "\n",
                "(Reminder: the logistic regression model is defined as $f: X \\rightarrow \\sigma(X \\vec{\\beta})$)\n",
                "\n",
                "The first task is to implement the model itself: given its parameters $\\vec{\\beta}$ and input data, compute the binary labels predicted by the model.\n",
                "\n",
                "The second task is to implement the gradient of the logistic loss function (carefully read the slides of course 03) so that the model can be trained using gradient descent (already provided in the homework). As explained in the lab, using an averaged loss is better in practice, so you are asked to compute the averaged gradient over the dataset.\n",
                "\n",
                "You should not edit the given gradient descent implementation.\n",
                "\n",
                "The following cell can be used for manual testing.\n",
                "\n",
                "**Hints:**\n",
                "\n",
                "Task 1:\n",
                "\n",
                "*Remember when we plotted the class probabilities? How do you choose the most probable class?* \n",
                "\n",
                "Task 2:\n",
                "\n",
                "*Do not forget to add a column of ones, just like in the lab.*\n",
                "\n",
                "*Pay attention to the sign of the derivative.*"
            ]
        },
        {
            "cell_type": "code",
            "execution_count": null,
            "metadata": {},
            "outputs": [],
            "source": [
                "import homework\n",
                "\n",
                "import importlib\n",
                "importlib.reload(homework)\n",
                "\n",
                "# Test your functions!\n",
                "#\n",
                "# homework.logistic_loss_derivative(data_X, data_y, beta)\n",
                "# homework.model_prediction(data_X, beta)\n",
                "# homework.gradient_descent(data_X, data_y, beta_0, stepsize, iterates)"
            ]
        },
        {
            "cell_type": "markdown",
            "metadata": {},
            "source": [
                "## Test cell\n",
                "\n",
                "Run this cell to check whether your homework passes the test."
            ]
        },
        {
            "cell_type": "code",
            "execution_count": null,
            "metadata": {},
            "outputs": [],
            "source": [
                "import unittest\n",
                "import testing\n",
                "\n",
                "import importlib\n",
                "importlib.reload(testing)\n",
                "\n",
                "unittest.main(module=testing, argv=['first-arg-is-ignored'], exit=False)"
            ]
        }
    ],
    "metadata": {
        "kernelspec": {
            "display_name": "Python 3",
            "language": "python",
            "name": "python3"
        },
        "language_info": {
            "codemirror_mode": {
                "name": "ipython",
                "version": 3
            },
            "file_extension": ".py",
            "mimetype": "text/x-python",
            "name": "python",
            "nbconvert_exporter": "python",
            "pygments_lexer": "ipython3",
            "version": "3.9.2-final"
        }
    },
    "nbformat": 4,
    "nbformat_minor": 4
}